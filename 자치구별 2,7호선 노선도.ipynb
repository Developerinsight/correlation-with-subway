{
 "cells": [
  {
   "cell_type": "code",
   "execution_count": 9,
   "id": "bff4dc12",
   "metadata": {},
   "outputs": [],
   "source": [
    "# 파일 읽어옴 (자치구별 지하철역 - 2022년 자료)\n",
    "import pandas as pd\n",
    "\n",
    "df = pd.read_csv('./서울교통공사_자치구별지하철역정보_20221130.csv',encoding='CP949')"
   ]
  },
  {
   "cell_type": "markdown",
   "id": "afcccea9",
   "metadata": {},
   "source": [
    "## 필요한 열만 추출"
   ]
  },
  {
   "cell_type": "code",
   "execution_count": 30,
   "id": "ab5a6b4f",
   "metadata": {},
   "outputs": [
    {
     "data": {
      "text/html": [
       "<div>\n",
       "<style scoped>\n",
       "    .dataframe tbody tr th:only-of-type {\n",
       "        vertical-align: middle;\n",
       "    }\n",
       "\n",
       "    .dataframe tbody tr th {\n",
       "        vertical-align: top;\n",
       "    }\n",
       "\n",
       "    .dataframe thead th {\n",
       "        text-align: right;\n",
       "    }\n",
       "</style>\n",
       "<table border=\"1\" class=\"dataframe\">\n",
       "  <thead>\n",
       "    <tr style=\"text-align: right;\">\n",
       "      <th></th>\n",
       "      <th>자치구</th>\n",
       "      <th>역명(호선)</th>\n",
       "    </tr>\n",
       "  </thead>\n",
       "  <tbody>\n",
       "    <tr>\n",
       "      <th>0</th>\n",
       "      <td>강남구</td>\n",
       "      <td>삼성(2), 선릉(2), 역삼(2), 강남(2), 압구정(3), 신사(3), 매봉(...</td>\n",
       "    </tr>\n",
       "    <tr>\n",
       "      <th>1</th>\n",
       "      <td>강동구</td>\n",
       "      <td>천호(5), 강동(5), 길동(5), 굽은다리(5), 명일(5), 고덕(5), 상일...</td>\n",
       "    </tr>\n",
       "    <tr>\n",
       "      <th>2</th>\n",
       "      <td>강북구</td>\n",
       "      <td>수유(4), 미아(4), 미아사거리(4)</td>\n",
       "    </tr>\n",
       "    <tr>\n",
       "      <th>3</th>\n",
       "      <td>강서구</td>\n",
       "      <td>방화(5), 개화산(5), 김포공항(5), 송정(5), 마곡(5), 발산(5), 우...</td>\n",
       "    </tr>\n",
       "    <tr>\n",
       "      <th>4</th>\n",
       "      <td>관악구</td>\n",
       "      <td>낙성대(2), 서울대입구(2), 봉천(2), 신림(2)</td>\n",
       "    </tr>\n",
       "  </tbody>\n",
       "</table>\n",
       "</div>"
      ],
      "text/plain": [
       "   자치구                                             역명(호선)\n",
       "0  강남구  삼성(2), 선릉(2), 역삼(2), 강남(2), 압구정(3), 신사(3), 매봉(...\n",
       "1  강동구  천호(5), 강동(5), 길동(5), 굽은다리(5), 명일(5), 고덕(5), 상일...\n",
       "2  강북구                             수유(4), 미아(4), 미아사거리(4)\n",
       "3  강서구  방화(5), 개화산(5), 김포공항(5), 송정(5), 마곡(5), 발산(5), 우...\n",
       "4  관악구                     낙성대(2), 서울대입구(2), 봉천(2), 신림(2)"
      ]
     },
     "execution_count": 30,
     "metadata": {},
     "output_type": "execute_result"
    }
   ],
   "source": [
    "df_1 = df[['자치구','역명(호선)']]\n",
    "df_1.head()"
   ]
  },
  {
   "cell_type": "markdown",
   "id": "8f1fbbef",
   "metadata": {},
   "source": [
    "## 역명(호선)을  , 단위로 쪼개서 2호선과 7호선에 해당하는 부분만 추출"
   ]
  },
  {
   "cell_type": "code",
   "execution_count": 31,
   "id": "aa025426",
   "metadata": {},
   "outputs": [],
   "source": [
    "# list = df_1['역명(호선)'].apply(lambda x: x.split(', '))\n",
    "# print(list)"
   ]
  },
  {
   "cell_type": "code",
   "execution_count": 36,
   "id": "19ac7e6e",
   "metadata": {},
   "outputs": [
    {
     "name": "stderr",
     "output_type": "stream",
     "text": [
      "/var/folders/5p/glzbf4s962d2qc7rwk43fvx80000gn/T/ipykernel_1591/3699638781.py:1: SettingWithCopyWarning: \n",
      "A value is trying to be set on a copy of a slice from a DataFrame.\n",
      "Try using .loc[row_indexer,col_indexer] = value instead\n",
      "\n",
      "See the caveats in the documentation: https://pandas.pydata.org/pandas-docs/stable/user_guide/indexing.html#returning-a-view-versus-a-copy\n",
      "  df_1['자치구별 2호선'] = df_1['역명(호선)'].apply(lambda x: ', '.join([i for i in x.split(', ') if '(2)' in i]))\n",
      "/var/folders/5p/glzbf4s962d2qc7rwk43fvx80000gn/T/ipykernel_1591/3699638781.py:2: SettingWithCopyWarning: \n",
      "A value is trying to be set on a copy of a slice from a DataFrame.\n",
      "Try using .loc[row_indexer,col_indexer] = value instead\n",
      "\n",
      "See the caveats in the documentation: https://pandas.pydata.org/pandas-docs/stable/user_guide/indexing.html#returning-a-view-versus-a-copy\n",
      "  df_1['자치구별 7호선'] = df_1['역명(호선)'].apply(lambda x: ', '.join([i for i in x.split(', ') if '(7)' in i]))\n"
     ]
    },
    {
     "data": {
      "text/html": [
       "<div>\n",
       "<style scoped>\n",
       "    .dataframe tbody tr th:only-of-type {\n",
       "        vertical-align: middle;\n",
       "    }\n",
       "\n",
       "    .dataframe tbody tr th {\n",
       "        vertical-align: top;\n",
       "    }\n",
       "\n",
       "    .dataframe thead th {\n",
       "        text-align: right;\n",
       "    }\n",
       "</style>\n",
       "<table border=\"1\" class=\"dataframe\">\n",
       "  <thead>\n",
       "    <tr style=\"text-align: right;\">\n",
       "      <th></th>\n",
       "      <th>자치구</th>\n",
       "      <th>자치구별 2호선</th>\n",
       "      <th>자치구별 7호선</th>\n",
       "    </tr>\n",
       "  </thead>\n",
       "  <tbody>\n",
       "    <tr>\n",
       "      <th>0</th>\n",
       "      <td>강남구</td>\n",
       "      <td>삼성(2), 선릉(2), 역삼(2), 강남(2)</td>\n",
       "      <td>청담(7), 강남구청(7), 학동(7), 논현(7)</td>\n",
       "    </tr>\n",
       "    <tr>\n",
       "      <th>1</th>\n",
       "      <td>강동구</td>\n",
       "      <td></td>\n",
       "      <td></td>\n",
       "    </tr>\n",
       "    <tr>\n",
       "      <th>2</th>\n",
       "      <td>강북구</td>\n",
       "      <td></td>\n",
       "      <td></td>\n",
       "    </tr>\n",
       "    <tr>\n",
       "      <th>3</th>\n",
       "      <td>강서구</td>\n",
       "      <td></td>\n",
       "      <td></td>\n",
       "    </tr>\n",
       "    <tr>\n",
       "      <th>4</th>\n",
       "      <td>관악구</td>\n",
       "      <td>낙성대(2), 서울대입구(2), 봉천(2), 신림(2)</td>\n",
       "      <td></td>\n",
       "    </tr>\n",
       "  </tbody>\n",
       "</table>\n",
       "</div>"
      ],
      "text/plain": [
       "   자치구                        자치구별 2호선                      자치구별 7호선\n",
       "0  강남구      삼성(2), 선릉(2), 역삼(2), 강남(2)  청담(7), 강남구청(7), 학동(7), 논현(7)\n",
       "1  강동구                                                              \n",
       "2  강북구                                                              \n",
       "3  강서구                                                              \n",
       "4  관악구  낙성대(2), 서울대입구(2), 봉천(2), 신림(2)                              "
      ]
     },
     "execution_count": 36,
     "metadata": {},
     "output_type": "execute_result"
    }
   ],
   "source": [
    "df_1['자치구별 2호선'] = df_1['역명(호선)'].apply(lambda x: ', '.join([i for i in x.split(', ') if '(2)' in i]))\n",
    "df_1['자치구별 7호선'] = df_1['역명(호선)'].apply(lambda x: ', '.join([i for i in x.split(', ') if '(7)' in i]))\n",
    "df_t = df_1[['자치구','자치구별 2호선','자치구별 7호선']]\n",
    "\n",
    "df_t.head()"
   ]
  },
  {
   "cell_type": "markdown",
   "id": "aa034b97",
   "metadata": {},
   "source": [
    "## 수정된 내용을 추출해서 저장"
   ]
  },
  {
   "cell_type": "code",
   "execution_count": 37,
   "id": "ac623fb6",
   "metadata": {},
   "outputs": [],
   "source": [
    "df_t.to_csv('./서울자치구별2~7호선.csv', index=False, encoding='utf-8-sig')"
   ]
  }
 ],
 "metadata": {
  "kernelspec": {
   "display_name": "Python [conda env:root] *",
   "language": "python",
   "name": "conda-root-py"
  },
  "language_info": {
   "codemirror_mode": {
    "name": "ipython",
    "version": 3
   },
   "file_extension": ".py",
   "mimetype": "text/x-python",
   "name": "python",
   "nbconvert_exporter": "python",
   "pygments_lexer": "ipython3",
   "version": "3.9.13"
  }
 },
 "nbformat": 4,
 "nbformat_minor": 5
}
